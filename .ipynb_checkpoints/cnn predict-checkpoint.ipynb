{
 "cells": [
  {
   "cell_type": "code",
   "execution_count": 1,
   "metadata": {},
   "outputs": [],
   "source": [
    "\n",
    "import numpy as np\n",
    "from tensorflow.keras.preprocessing.image import ImageDataGenerator, load_img, img_to_array\n",
    "from tensorflow.keras.models import Sequential, load_model\n",
    "\n",
    "#load model\n",
    "img_width, img_height = 128, 128\n"
   ]
  },
  {
   "cell_type": "code",
   "execution_count": null,
   "metadata": {},
   "outputs": [
    {
     "name": "stdout",
     "output_type": "stream",
     "text": [
      "WARNING:tensorflow:From /home/aichunks/anaconda3/lib/python3.6/site-packages/tensorflow/python/ops/resource_variable_ops.py:435: colocate_with (from tensorflow.python.framework.ops) is deprecated and will be removed in a future version.\n",
      "Instructions for updating:\n",
      "Colocations handled automatically by placer.\n"
     ]
    }
   ],
   "source": [
    "model_path = './models/model.h5'\n",
    "model_weights_path = './models/weights.h5'\n",
    "model = load_model(model_path)\n",
    "model.load_weights(model_weights_path)\n"
   ]
  },
  {
   "cell_type": "code",
   "execution_count": null,
   "metadata": {},
   "outputs": [],
   "source": [
    "#Prediction on a new picture\n",
    "from keras.preprocessing import image as image_utils\n",
    "from PIL import Image, ImageTk\n",
    "import requests\n",
    "from io import BytesIO\n",
    "from tkinter import Tk,Label,Canvas,NW,Entry,Button \n",
    "url = ''\n",
    "window = Tk()\n",
    "window.title(\"Welcome to Image predictor\") \n",
    "window.geometry('800x600')\n",
    "lbl = Label(window, text=\"Enter the URL of the image\", font=(\"Helvetica\", 16))\n",
    "lbl.pack()\n",
    "def clicked(): \n",
    "    global url\n",
    "    lbl.configure()\n",
    "    url  = (User_input.get())\n",
    "    print(url)\n",
    "    response = requests.get(url)\n",
    "    test_image = Image.open(BytesIO(response.content))\n",
    "    put_image = test_image.resize((400,400)) \n",
    "    test_image = test_image.resize((128,128))  \n",
    "    img = ImageTk.PhotoImage(put_image)\n",
    "    pic = Label(image=img)\n",
    "    pic.pack()\n",
    "    pic.image = img\n",
    "    test_image = image_utils.img_to_array(test_image)\n",
    "    test_image = np.expand_dims(test_image, axis=0)\n",
    "    \n",
    " \n",
    "    result = model.predict_on_batch(test_image)\n",
    "\n",
    "    if result[0][0] == 1:\n",
    "        ans = 'french fries'\n",
    "    elif result[0][1] == 1:\n",
    "        ans = 'pizza'\n",
    "    elif result[0][2] == 1:\n",
    "        ans = 'samosa'\n",
    "    out = Label(window, text  = 'Predicted answer : ' +  ans, font=(\"Helvetica\", 16))\n",
    "    out.pack()\n",
    "\n",
    "User_input = Entry(width = 100)\n",
    "User_input.pack()\n",
    "btn = Button(window, text=\"Detect Image\", font=(\"Helvetica\", 12), command=clicked)\n",
    "btn.pack()\n",
    "window.mainloop()"
   ]
  }
 ],
 "metadata": {
  "kernelspec": {
   "display_name": "Python 3",
   "language": "python",
   "name": "python3"
  },
  "language_info": {
   "codemirror_mode": {
    "name": "ipython",
    "version": 3
   },
   "file_extension": ".py",
   "mimetype": "text/x-python",
   "name": "python",
   "nbconvert_exporter": "python",
   "pygments_lexer": "ipython3",
   "version": "3.6.8"
  }
 },
 "nbformat": 4,
 "nbformat_minor": 2
}
